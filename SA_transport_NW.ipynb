{
 "cells": [
  {
   "cell_type": "markdown",
   "metadata": {},
   "source": [
    "# Импортиране на библиотека"
   ]
  },
  {
   "cell_type": "code",
   "execution_count": null,
   "metadata": {},
   "outputs": [],
   "source": [
    "import numpy as np"
   ]
  },
  {
   "cell_type": "markdown",
   "metadata": {},
   "source": [
    "# Зареждане на файл"
   ]
  },
  {
   "cell_type": "code",
   "execution_count": 142,
   "metadata": {},
   "outputs": [],
   "source": [
    "file = np.loadtxt(\"SA_project/zad2.txt\",dtype=int,  delimiter=\",\",) #вкарваме файла като матрица\n",
    "ins = file[0:3]                                                     #извличаме cost редовете\n",
    "zav = file[3]                                                       #извличаме supply\n",
    "skl = file[4]                                                       #извличаме demand"
   ]
  },
  {
   "cell_type": "markdown",
   "metadata": {},
   "source": [
    "# Принтиране на получените данни"
   ]
  },
  {
   "cell_type": "code",
   "execution_count": 139,
   "metadata": {},
   "outputs": [
    {
     "name": "stdout",
     "output_type": "stream",
     "text": [
      "Задачата е:\n",
      "[[12 18  0]\n",
      " [15 24  0]\n",
      " [20 35  0]]\n",
      "Завод: [1800 2600 2200]\n",
      "Склад: [3000 2300 1300]\n"
     ]
    }
   ],
   "source": [
    "print(\"Задачата е:\")\n",
    "print(ins)\n",
    "print(\"Завод:\",zav)\n",
    "print(\"Склад:\",skl)"
   ]
  },
  {
   "cell_type": "code",
   "execution_count": 140,
   "metadata": {},
   "outputs": [],
   "source": [
    "vs = 0; #крайна сума"
   ]
  },
  {
   "cell_type": "markdown",
   "metadata": {},
   "source": [
    "# Изчисления по метода на СЗ ъгъл"
   ]
  },
  {
   "cell_type": "code",
   "execution_count": 143,
   "metadata": {},
   "outputs": [
    {
     "name": "stdout",
     "output_type": "stream",
     "text": [
      "X 1 1 : 1800\n",
      "12 * 1800\n",
      "X 2 1 : 1200\n",
      "15 * 1200\n",
      "X 2 2 : 1400\n",
      "24 * 1400\n",
      "X 3 2 : 900\n",
      "35 * 900\n",
      "X 3 3 : 1300\n",
      "0 * 1300\n"
     ]
    }
   ],
   "source": [
    "for x in range(ins.shape[0]):\n",
    "    for z in range(ins.shape[1]):\n",
    "\n",
    "        minn = min(zav[x],skl[z])\n",
    "        if (minn != 0):\n",
    "            print(\"X\",x+1,z+1,\":\",minn)\n",
    "        if (minn != 0):\n",
    "            vs = vs + minn * ins[x][z]\n",
    "            print(ins[x][z],\"*\",minn)\n",
    "        zav[x] -= minn\n",
    "        skl[z] -= minn"
   ]
  },
  {
   "cell_type": "markdown",
   "metadata": {},
   "source": [
    "# Крайна стойност за транспортната задача"
   ]
  },
  {
   "cell_type": "code",
   "execution_count": 135,
   "metadata": {},
   "outputs": [
    {
     "name": "stdout",
     "output_type": "stream",
     "text": [
      "Стойността за транспорт е 104700 лв.\n"
     ]
    }
   ],
   "source": [
    "print(\"Стойността за транспорт е\",vs, \"лв.\")"
   ]
  }
 ],
 "metadata": {
  "kernelspec": {
   "display_name": "Python 3",
   "language": "python",
   "name": "python3"
  },
  "language_info": {
   "codemirror_mode": {
    "name": "ipython",
    "version": 3
   },
   "file_extension": ".py",
   "mimetype": "text/x-python",
   "name": "python",
   "nbconvert_exporter": "python",
   "pygments_lexer": "ipython3",
   "version": "3.8.5"
  }
 },
 "nbformat": 4,
 "nbformat_minor": 4
}
